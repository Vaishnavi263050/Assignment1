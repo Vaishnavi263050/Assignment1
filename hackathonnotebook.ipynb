{
  "cells": [
    {
      "cell_type": "markdown",
      "metadata": {
        "id": "view-in-github",
        "colab_type": "text"
      },
      "source": [
        "<a href=\"https://colab.research.google.com/github/Vaishnavi263050/Assignment1/blob/main/hackathonnotebook.ipynb\" target=\"_parent\"><img src=\"https://colab.research.google.com/assets/colab-badge.svg\" alt=\"Open In Colab\"/></a>"
      ]
    },
    {
      "cell_type": "code",
      "execution_count": 5,
      "id": "52fc0999",
      "metadata": {
        "execution": {
          "iopub.execute_input": "2025-06-04T15:58:19.114208Z",
          "iopub.status.busy": "2025-06-04T15:58:19.113809Z",
          "iopub.status.idle": "2025-06-04T15:58:19.269452Z",
          "shell.execute_reply": "2025-06-04T15:58:19.268010Z"
        },
        "papermill": {
          "duration": 0.161514,
          "end_time": "2025-06-04T15:58:19.271341",
          "exception": false,
          "start_time": "2025-06-04T15:58:19.109827",
          "status": "completed"
        },
        "tags": [],
        "id": "52fc0999",
        "outputId": "aef45a9b-c764-416d-8ca5-dae75ef57ab9",
        "colab": {
          "base_uri": "https://localhost:8080/",
          "height": 73
        }
      },
      "outputs": [
        {
          "output_type": "display_data",
          "data": {
            "text/plain": [
              "<IPython.core.display.HTML object>"
            ],
            "text/html": [
              "\n",
              "     <input type=\"file\" id=\"files-f376ec9b-57eb-41af-979c-e256bfb967f8\" name=\"files[]\" multiple disabled\n",
              "        style=\"border:none\" />\n",
              "     <output id=\"result-f376ec9b-57eb-41af-979c-e256bfb967f8\">\n",
              "      Upload widget is only available when the cell has been executed in the\n",
              "      current browser session. Please rerun this cell to enable.\n",
              "      </output>\n",
              "      <script>// Copyright 2017 Google LLC\n",
              "//\n",
              "// Licensed under the Apache License, Version 2.0 (the \"License\");\n",
              "// you may not use this file except in compliance with the License.\n",
              "// You may obtain a copy of the License at\n",
              "//\n",
              "//      http://www.apache.org/licenses/LICENSE-2.0\n",
              "//\n",
              "// Unless required by applicable law or agreed to in writing, software\n",
              "// distributed under the License is distributed on an \"AS IS\" BASIS,\n",
              "// WITHOUT WARRANTIES OR CONDITIONS OF ANY KIND, either express or implied.\n",
              "// See the License for the specific language governing permissions and\n",
              "// limitations under the License.\n",
              "\n",
              "/**\n",
              " * @fileoverview Helpers for google.colab Python module.\n",
              " */\n",
              "(function(scope) {\n",
              "function span(text, styleAttributes = {}) {\n",
              "  const element = document.createElement('span');\n",
              "  element.textContent = text;\n",
              "  for (const key of Object.keys(styleAttributes)) {\n",
              "    element.style[key] = styleAttributes[key];\n",
              "  }\n",
              "  return element;\n",
              "}\n",
              "\n",
              "// Max number of bytes which will be uploaded at a time.\n",
              "const MAX_PAYLOAD_SIZE = 100 * 1024;\n",
              "\n",
              "function _uploadFiles(inputId, outputId) {\n",
              "  const steps = uploadFilesStep(inputId, outputId);\n",
              "  const outputElement = document.getElementById(outputId);\n",
              "  // Cache steps on the outputElement to make it available for the next call\n",
              "  // to uploadFilesContinue from Python.\n",
              "  outputElement.steps = steps;\n",
              "\n",
              "  return _uploadFilesContinue(outputId);\n",
              "}\n",
              "\n",
              "// This is roughly an async generator (not supported in the browser yet),\n",
              "// where there are multiple asynchronous steps and the Python side is going\n",
              "// to poll for completion of each step.\n",
              "// This uses a Promise to block the python side on completion of each step,\n",
              "// then passes the result of the previous step as the input to the next step.\n",
              "function _uploadFilesContinue(outputId) {\n",
              "  const outputElement = document.getElementById(outputId);\n",
              "  const steps = outputElement.steps;\n",
              "\n",
              "  const next = steps.next(outputElement.lastPromiseValue);\n",
              "  return Promise.resolve(next.value.promise).then((value) => {\n",
              "    // Cache the last promise value to make it available to the next\n",
              "    // step of the generator.\n",
              "    outputElement.lastPromiseValue = value;\n",
              "    return next.value.response;\n",
              "  });\n",
              "}\n",
              "\n",
              "/**\n",
              " * Generator function which is called between each async step of the upload\n",
              " * process.\n",
              " * @param {string} inputId Element ID of the input file picker element.\n",
              " * @param {string} outputId Element ID of the output display.\n",
              " * @return {!Iterable<!Object>} Iterable of next steps.\n",
              " */\n",
              "function* uploadFilesStep(inputId, outputId) {\n",
              "  const inputElement = document.getElementById(inputId);\n",
              "  inputElement.disabled = false;\n",
              "\n",
              "  const outputElement = document.getElementById(outputId);\n",
              "  outputElement.innerHTML = '';\n",
              "\n",
              "  const pickedPromise = new Promise((resolve) => {\n",
              "    inputElement.addEventListener('change', (e) => {\n",
              "      resolve(e.target.files);\n",
              "    });\n",
              "  });\n",
              "\n",
              "  const cancel = document.createElement('button');\n",
              "  inputElement.parentElement.appendChild(cancel);\n",
              "  cancel.textContent = 'Cancel upload';\n",
              "  const cancelPromise = new Promise((resolve) => {\n",
              "    cancel.onclick = () => {\n",
              "      resolve(null);\n",
              "    };\n",
              "  });\n",
              "\n",
              "  // Wait for the user to pick the files.\n",
              "  const files = yield {\n",
              "    promise: Promise.race([pickedPromise, cancelPromise]),\n",
              "    response: {\n",
              "      action: 'starting',\n",
              "    }\n",
              "  };\n",
              "\n",
              "  cancel.remove();\n",
              "\n",
              "  // Disable the input element since further picks are not allowed.\n",
              "  inputElement.disabled = true;\n",
              "\n",
              "  if (!files) {\n",
              "    return {\n",
              "      response: {\n",
              "        action: 'complete',\n",
              "      }\n",
              "    };\n",
              "  }\n",
              "\n",
              "  for (const file of files) {\n",
              "    const li = document.createElement('li');\n",
              "    li.append(span(file.name, {fontWeight: 'bold'}));\n",
              "    li.append(span(\n",
              "        `(${file.type || 'n/a'}) - ${file.size} bytes, ` +\n",
              "        `last modified: ${\n",
              "            file.lastModifiedDate ? file.lastModifiedDate.toLocaleDateString() :\n",
              "                                    'n/a'} - `));\n",
              "    const percent = span('0% done');\n",
              "    li.appendChild(percent);\n",
              "\n",
              "    outputElement.appendChild(li);\n",
              "\n",
              "    const fileDataPromise = new Promise((resolve) => {\n",
              "      const reader = new FileReader();\n",
              "      reader.onload = (e) => {\n",
              "        resolve(e.target.result);\n",
              "      };\n",
              "      reader.readAsArrayBuffer(file);\n",
              "    });\n",
              "    // Wait for the data to be ready.\n",
              "    let fileData = yield {\n",
              "      promise: fileDataPromise,\n",
              "      response: {\n",
              "        action: 'continue',\n",
              "      }\n",
              "    };\n",
              "\n",
              "    // Use a chunked sending to avoid message size limits. See b/62115660.\n",
              "    let position = 0;\n",
              "    do {\n",
              "      const length = Math.min(fileData.byteLength - position, MAX_PAYLOAD_SIZE);\n",
              "      const chunk = new Uint8Array(fileData, position, length);\n",
              "      position += length;\n",
              "\n",
              "      const base64 = btoa(String.fromCharCode.apply(null, chunk));\n",
              "      yield {\n",
              "        response: {\n",
              "          action: 'append',\n",
              "          file: file.name,\n",
              "          data: base64,\n",
              "        },\n",
              "      };\n",
              "\n",
              "      let percentDone = fileData.byteLength === 0 ?\n",
              "          100 :\n",
              "          Math.round((position / fileData.byteLength) * 100);\n",
              "      percent.textContent = `${percentDone}% done`;\n",
              "\n",
              "    } while (position < fileData.byteLength);\n",
              "  }\n",
              "\n",
              "  // All done.\n",
              "  yield {\n",
              "    response: {\n",
              "      action: 'complete',\n",
              "    }\n",
              "  };\n",
              "}\n",
              "\n",
              "scope.google = scope.google || {};\n",
              "scope.google.colab = scope.google.colab || {};\n",
              "scope.google.colab._files = {\n",
              "  _uploadFiles,\n",
              "  _uploadFilesContinue,\n",
              "};\n",
              "})(self);\n",
              "</script> "
            ]
          },
          "metadata": {}
        },
        {
          "output_type": "stream",
          "name": "stdout",
          "text": [
            "Saving hacktest.csv to hacktest (1).csv\n"
          ]
        }
      ],
      "source": [
        "from google.colab import files\n",
        "uploaded = files.upload()\n",
        "\n"
      ]
    },
    {
      "cell_type": "code",
      "execution_count": 16,
      "id": "8646c661",
      "metadata": {
        "execution": {
          "iopub.execute_input": "2025-06-04T15:58:19.308529Z",
          "iopub.status.busy": "2025-06-04T15:58:19.308132Z",
          "iopub.status.idle": "2025-06-04T15:58:19.339698Z",
          "shell.execute_reply": "2025-06-04T15:58:19.338734Z"
        },
        "papermill": {
          "duration": 0.037963,
          "end_time": "2025-06-04T15:58:19.341331",
          "exception": false,
          "start_time": "2025-06-04T15:58:19.303368",
          "status": "completed"
        },
        "tags": [],
        "id": "8646c661"
      },
      "outputs": [],
      "source": [
        "# Step 1: Imports\n",
        "import pandas as pd\n",
        "import numpy as np\n",
        "from sklearn.model_selection import train_test_split\n",
        "from sklearn.ensemble import RandomForestClassifier\n",
        "from sklearn.preprocessing import LabelEncoder, StandardScaler\n",
        "from sklearn.metrics import accuracy_score, classification_report\n",
        "\n"
      ]
    },
    {
      "cell_type": "code",
      "execution_count": 7,
      "id": "c5a6f9fa",
      "metadata": {
        "execution": {
          "iopub.execute_input": "2025-06-04T15:58:19.350301Z",
          "iopub.status.busy": "2025-06-04T15:58:19.349991Z",
          "iopub.status.idle": "2025-06-04T15:58:21.995502Z",
          "shell.execute_reply": "2025-06-04T15:58:21.992246Z"
        },
        "papermill": {
          "duration": 2.652139,
          "end_time": "2025-06-04T15:58:21.997405",
          "exception": false,
          "start_time": "2025-06-04T15:58:19.345266",
          "status": "completed"
        },
        "tags": [],
        "id": "c5a6f9fa",
        "outputId": "3208ab59-4aa7-49c7-f73c-3d678457733d",
        "colab": {
          "base_uri": "https://localhost:8080/"
        }
      },
      "outputs": [
        {
          "output_type": "stream",
          "name": "stdout",
          "text": [
            "Train shape: (8000, 30)\n",
            "Test shape: (2845, 29)\n"
          ]
        }
      ],
      "source": [
        "train_df = pd.read_csv('hacktrain.csv')\n",
        "test_df = pd.read_csv('hacktest.csv')\n",
        "\n",
        "# Preview to confirm\n",
        "train_df.head(), test_df.head()\n",
        "print(\"Train shape:\", train_df.shape)\n",
        "print(\"Test shape:\", test_df.shape)\n"
      ]
    },
    {
      "cell_type": "code",
      "execution_count": 8,
      "id": "ff1cd1b8",
      "metadata": {
        "execution": {
          "iopub.execute_input": "2025-06-04T15:58:22.013108Z",
          "iopub.status.busy": "2025-06-04T15:58:22.012559Z",
          "iopub.status.idle": "2025-06-04T15:58:22.070775Z",
          "shell.execute_reply": "2025-06-04T15:58:22.069883Z"
        },
        "papermill": {
          "duration": 0.068872,
          "end_time": "2025-06-04T15:58:22.072964",
          "exception": false,
          "start_time": "2025-06-04T15:58:22.004092",
          "status": "completed"
        },
        "tags": [],
        "id": "ff1cd1b8"
      },
      "outputs": [],
      "source": [
        "# Step 3: Basic Preprocessing\n",
        "# Handle missing values by filling with zeros (or use better imputation if needed)\n",
        "train_df.fillna(0, inplace=True)\n",
        "test_df.fillna(0, inplace=True)\n",
        "\n",
        "ndvi_cols = [col for col in train_df.columns if '_N' in col or 'NDVI' in col]\n",
        "\n",
        "\n",
        "\n"
      ]
    },
    {
      "cell_type": "code",
      "execution_count": 9,
      "id": "ac73a96b",
      "metadata": {
        "execution": {
          "iopub.execute_input": "2025-06-04T15:58:22.083517Z",
          "iopub.status.busy": "2025-06-04T15:58:22.083182Z",
          "iopub.status.idle": "2025-06-04T15:58:22.089394Z",
          "shell.execute_reply": "2025-06-04T15:58:22.088300Z"
        },
        "papermill": {
          "duration": 0.013382,
          "end_time": "2025-06-04T15:58:22.091265",
          "exception": false,
          "start_time": "2025-06-04T15:58:22.077883",
          "status": "completed"
        },
        "tags": [],
        "id": "ac73a96b"
      },
      "outputs": [],
      "source": [
        "def add_ndvi_features(df):\n",
        "    df['ndvi_mean'] = df[ndvi_cols].mean(axis=1)\n",
        "    df['ndvi_std'] = df[ndvi_cols].std(axis=1)\n",
        "    df['ndvi_max'] = df[ndvi_cols].max(axis=1)\n",
        "    df['ndvi_min'] = df[ndvi_cols].min(axis=1)\n",
        "    df['ndvi_range'] = df['ndvi_max'] - df['ndvi_min']\n",
        "    return df\n",
        "\n",
        "train_df = add_ndvi_features(train_df)\n",
        "test_df = add_ndvi_features(test_df)\n"
      ]
    },
    {
      "cell_type": "code",
      "execution_count": 17,
      "id": "e65b77a4",
      "metadata": {
        "execution": {
          "iopub.execute_input": "2025-06-04T15:58:22.100828Z",
          "iopub.status.busy": "2025-06-04T15:58:22.100506Z",
          "iopub.status.idle": "2025-06-04T15:58:22.107742Z",
          "shell.execute_reply": "2025-06-04T15:58:22.106845Z"
        },
        "papermill": {
          "duration": 0.013618,
          "end_time": "2025-06-04T15:58:22.109275",
          "exception": false,
          "start_time": "2025-06-04T15:58:22.095657",
          "status": "completed"
        },
        "tags": [],
        "id": "e65b77a4"
      },
      "outputs": [],
      "source": [
        "X_train = train_df.drop(['ID', 'class'], axis=1)\n",
        "X_test = test_df.drop(['ID'], axis=1)\n",
        "\n",
        "\n",
        "le = LabelEncoder()\n",
        "y_train = le.fit_transform(train_df['class'])\n",
        "scaler = StandardScaler()\n",
        "X_train = scaler.fit_transform(X_train)\n",
        "X_test = scaler.transform(X_test)\n",
        "\n",
        "\n",
        "X_tr, X_val, y_tr, y_val = train_test_split(X_train, y_train, test_size=0.2, random_state=42)\n",
        "\n",
        "\n"
      ]
    },
    {
      "cell_type": "code",
      "execution_count": 18,
      "id": "aeee262b",
      "metadata": {
        "execution": {
          "iopub.execute_input": "2025-06-04T15:58:22.135812Z",
          "iopub.status.busy": "2025-06-04T15:58:22.135493Z",
          "iopub.status.idle": "2025-06-04T15:58:22.142058Z",
          "shell.execute_reply": "2025-06-04T15:58:22.141224Z"
        },
        "papermill": {
          "duration": 0.013121,
          "end_time": "2025-06-04T15:58:22.143689",
          "exception": false,
          "start_time": "2025-06-04T15:58:22.130568",
          "status": "completed"
        },
        "tags": [],
        "id": "aeee262b",
        "outputId": "11738b7a-168c-4490-ddc3-cdd1dcce55cc",
        "colab": {
          "base_uri": "https://localhost:8080/"
        }
      },
      "outputs": [
        {
          "output_type": "stream",
          "name": "stdout",
          "text": [
            "Validation accuracy: 0.966875\n",
            "Classification Report:\n",
            "               precision    recall  f1-score   support\n",
            "\n",
            "        farm       0.81      0.95      0.87       161\n",
            "      forest       1.00      1.00      1.00      1231\n",
            "       grass       0.92      0.81      0.86        43\n",
            "  impervious       0.91      0.79      0.84       141\n",
            "     orchard       1.00      0.17      0.29         6\n",
            "       water       1.00      0.89      0.94        18\n",
            "\n",
            "    accuracy                           0.97      1600\n",
            "   macro avg       0.94      0.77      0.80      1600\n",
            "weighted avg       0.97      0.97      0.97      1600\n",
            "\n"
          ]
        }
      ],
      "source": [
        " model = RandomForestClassifier(n_estimators=200, random_state=42, n_jobs=-1)\n",
        "model.fit(X_tr, y_tr)\n",
        "\n",
        "\n",
        "y_val_pred = model.predict(X_val)\n",
        "val_acc = accuracy_score(y_val, y_val_pred)\n",
        "print(\"Validation accuracy:\", val_acc)\n",
        "print(\"Classification Report:\\n\", classification_report(y_val, y_val_pred, target_names=le.classes_))\n"
      ]
    },
    {
      "cell_type": "code",
      "execution_count": 19,
      "id": "e10db231",
      "metadata": {
        "execution": {
          "iopub.execute_input": "2025-06-04T15:58:22.153558Z",
          "iopub.status.busy": "2025-06-04T15:58:22.153118Z",
          "iopub.status.idle": "2025-06-04T15:58:22.158731Z",
          "shell.execute_reply": "2025-06-04T15:58:22.157523Z"
        },
        "papermill": {
          "duration": 0.012481,
          "end_time": "2025-06-04T15:58:22.160251",
          "exception": false,
          "start_time": "2025-06-04T15:58:22.147770",
          "status": "completed"
        },
        "tags": [],
        "id": "e10db231"
      },
      "outputs": [],
      "source": [
        "y_test_pred = model.predict(X_test)\n",
        "\n"
      ]
    },
    {
      "cell_type": "code",
      "execution_count": 20,
      "id": "9906b67f",
      "metadata": {
        "execution": {
          "iopub.execute_input": "2025-06-04T15:58:22.169987Z",
          "iopub.status.busy": "2025-06-04T15:58:22.169596Z",
          "iopub.status.idle": "2025-06-04T15:58:22.179704Z",
          "shell.execute_reply": "2025-06-04T15:58:22.178864Z"
        },
        "papermill": {
          "duration": 0.01673,
          "end_time": "2025-06-04T15:58:22.181310",
          "exception": false,
          "start_time": "2025-06-04T15:58:22.164580",
          "status": "completed"
        },
        "tags": [],
        "id": "9906b67f",
        "outputId": "064cd2b9-1aab-4f18-d706-ef7f19216a11",
        "colab": {
          "base_uri": "https://localhost:8080/",
          "height": 34
        }
      },
      "outputs": [
        {
          "output_type": "stream",
          "name": "stdout",
          "text": [
            "Submission file saved as submission.csv!\n"
          ]
        },
        {
          "output_type": "display_data",
          "data": {
            "text/plain": [
              "<IPython.core.display.Javascript object>"
            ],
            "application/javascript": [
              "\n",
              "    async function download(id, filename, size) {\n",
              "      if (!google.colab.kernel.accessAllowed) {\n",
              "        return;\n",
              "      }\n",
              "      const div = document.createElement('div');\n",
              "      const label = document.createElement('label');\n",
              "      label.textContent = `Downloading \"${filename}\": `;\n",
              "      div.appendChild(label);\n",
              "      const progress = document.createElement('progress');\n",
              "      progress.max = size;\n",
              "      div.appendChild(progress);\n",
              "      document.body.appendChild(div);\n",
              "\n",
              "      const buffers = [];\n",
              "      let downloaded = 0;\n",
              "\n",
              "      const channel = await google.colab.kernel.comms.open(id);\n",
              "      // Send a message to notify the kernel that we're ready.\n",
              "      channel.send({})\n",
              "\n",
              "      for await (const message of channel.messages) {\n",
              "        // Send a message to notify the kernel that we're ready.\n",
              "        channel.send({})\n",
              "        if (message.buffers) {\n",
              "          for (const buffer of message.buffers) {\n",
              "            buffers.push(buffer);\n",
              "            downloaded += buffer.byteLength;\n",
              "            progress.value = downloaded;\n",
              "          }\n",
              "        }\n",
              "      }\n",
              "      const blob = new Blob(buffers, {type: 'application/binary'});\n",
              "      const a = document.createElement('a');\n",
              "      a.href = window.URL.createObjectURL(blob);\n",
              "      a.download = filename;\n",
              "      div.appendChild(a);\n",
              "      a.click();\n",
              "      div.remove();\n",
              "    }\n",
              "  "
            ]
          },
          "metadata": {}
        },
        {
          "output_type": "display_data",
          "data": {
            "text/plain": [
              "<IPython.core.display.Javascript object>"
            ],
            "application/javascript": [
              "download(\"download_36452e96-61b4-4de1-82bc-cc7000ac6145\", \"submission.csv\", 32681)"
            ]
          },
          "metadata": {}
        }
      ],
      "source": [
        " submission_df = pd.DataFrame({\n",
        "    'ID': test_df['ID'],\n",
        "    'class': le.inverse_transform(y_test_pred)\n",
        "})\n",
        "submission_df.to_csv('submission.csv', index=False)\n",
        "print(\"Submission file saved as submission.csv!\")\n",
        "from google.colab import files\n",
        "files.download('submission.csv')\n"
      ]
    }
  ],
  "metadata": {
    "kaggle": {
      "accelerator": "none",
      "dataSources": [
        {
          "databundleVersionId": 12585144,
          "sourceId": 104491,
          "sourceType": "competition"
        }
      ],
      "dockerImageVersionId": 31040,
      "isGpuEnabled": false,
      "isInternetEnabled": true,
      "language": "python",
      "sourceType": "notebook"
    },
    "kernelspec": {
      "display_name": "Python 3",
      "language": "python",
      "name": "python3"
    },
    "language_info": {
      "codemirror_mode": {
        "name": "ipython",
        "version": 3
      },
      "file_extension": ".py",
      "mimetype": "text/x-python",
      "name": "python",
      "nbconvert_exporter": "python",
      "pygments_lexer": "ipython3",
      "version": "3.11.11"
    },
    "papermill": {
      "default_parameters": {},
      "duration": 12.460836,
      "end_time": "2025-06-04T15:58:22.939774",
      "environment_variables": {},
      "exception": null,
      "input_path": "__notebook__.ipynb",
      "output_path": "__notebook__.ipynb",
      "parameters": {},
      "start_time": "2025-06-04T15:58:10.478938",
      "version": "2.6.0"
    },
    "colab": {
      "provenance": [],
      "include_colab_link": true
    }
  },
  "nbformat": 4,
  "nbformat_minor": 5
}